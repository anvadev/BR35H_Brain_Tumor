{
 "cells": [
  {
   "cell_type": "markdown",
   "metadata": {},
   "source": [
    "___"
   ]
  },
  {
   "cell_type": "markdown",
   "metadata": {},
   "source": [
    "<p style=\"font-family: courier; font-size: 25px; text-align: center;\">Brain Tumor Detection</p>\n",
    "\n",
    "<p style=\"font-family: courier; font-size: 15px; text-align: center;\">v.1.0.0</p>\n",
    "\n",
    "<p style=\"font-family: courier; font-size: 15px; text-align: center;\">(Beta)</p>"
   ]
  },
  {
   "cell_type": "markdown",
   "metadata": {},
   "source": [
    "#### <b> Overview </b>"
   ]
  },
  {
   "cell_type": "markdown",
   "metadata": {},
   "source": [
    "<div style=\"text-align: justify\">\n",
    "In the medical field, Brain tumor is seen as a serious, abnormal growth of cells in or near the brain that can be either benign, which is non-cancerous or malignant, which is cancerous. There are many treatments an individual with such tumor can receive, such as radiation therapy, chemotherapy, therapeutic drug, etc. Brain tumor can be seen via Magnetic Resonance Imaging (MRI) scanned images. Human error is prone to occur in any industry, and because of such error in the medical field can cost a life. To detect and identify what constitutes a benign or malignant tumor without human intervention would be to build a robust deep learning model to help the medical practitioner properly classify a cancerous from noncancerous tumors using over 3000 MRI scan trained images and testing images to help better serve the model.\n",
    "</div>"
   ]
  },
  {
   "cell_type": "markdown",
   "metadata": {},
   "source": [
    "#### <b> Purpose </b>"
   ]
  },
  {
   "cell_type": "markdown",
   "metadata": {},
   "source": [
    "<div style=\"text-align: justify\">\n",
    "The purpose for Brain Tumor Detection User Interface is to give the end-user the power to utilize a sophisticated Deep Learning model by uploading an image into the program, then submitting the image for the model to predict whether or not the MRI image submitted is in fact brain tumor, or not.\n",
    "</div>"
   ]
  },
  {
   "cell_type": "markdown",
   "metadata": {},
   "source": [
    "#### <b> About </b>"
   ]
  },
  {
   "cell_type": "markdown",
   "metadata": {},
   "source": [
    "<div style=\"text-align: justify\">\n",
    "    <b>Application name: </b> <i>Brain Tumor Detection</i><br>\n",
    "    <b>Version: </b> v.1.0.0 <i>(Beta)</i><br>\n",
    "    <b>Release Date: </b> TBD <br>\n",
    "</div>"
   ]
  },
  {
   "cell_type": "markdown",
   "metadata": {},
   "source": [
    "___"
   ]
  },
  {
   "cell_type": "markdown",
   "metadata": {},
   "source": [
    "___"
   ]
  },
  {
   "cell_type": "markdown",
   "metadata": {},
   "source": [
    "### <b> Library Imports</b>"
   ]
  },
  {
   "cell_type": "code",
   "execution_count": 22,
   "metadata": {},
   "outputs": [],
   "source": [
    "import tkinter as tk\n",
    "from tkinter import filedialog\n",
    "from PIL import Image, ImageTk\n",
    "import numpy as np\n",
    "import tensorflow as tf"
   ]
  },
  {
   "cell_type": "markdown",
   "metadata": {},
   "source": [
    "___"
   ]
  },
  {
   "cell_type": "code",
   "execution_count": 25,
   "metadata": {},
   "outputs": [],
   "source": [
    "# Load your brain tumor detection model\n",
    "model = tf.keras.models.load_model('model/brain_tumor_base_100_epochs_64_basics.h5')\n",
    "\n",
    "# Create the Tkinter application window\n",
    "window = tk.Tk()\n",
    "window.title(\"Brain Tumor Detection v.1.0.0 (BETA)\")\n",
    "window.geometry(\"400x400\")\n",
    "\n",
    "# Function to open the file dialog and get the image file\n",
    "def open_file():\n",
    "    file_path = filedialog.askopenfilename(filetypes=[(\"Image files\", \"*.jpg;*.jpeg;*.png\")])\n",
    "    if file_path:\n",
    "        # Display the selected image on the UI\n",
    "        img = Image.open(file_path)\n",
    "        img.thumbnail((300, 300))\n",
    "        img = ImageTk.PhotoImage(img)\n",
    "        panel.configure(image=img)\n",
    "        panel.image = img\n",
    "\n",
    "# Function to run the brain tumor detection model\n",
    "def detect_tumor():\n",
    "    if panel.image:\n",
    "        # Preprocess the image\n",
    "        img = panel.image\n",
    "        img_pil = img._PhotoImage__photo.subsample(img.width() // 128, img.height() // 128)\n",
    "        img_pil = ImageTk.getimage(img_pil)\n",
    "        img_pil = np.array(img_pil) / 255.0\n",
    "        img_pil = np.expand_dims(img_pil, axis=0)\n",
    "\n",
    "        # Run the model prediction\n",
    "        prediction = model.predict(img_pil)\n",
    "        if prediction[0][0] > 0.5:\n",
    "            result = \"Brain tumor detected!\"\n",
    "        else:\n",
    "            result = \"No brain tumor detected.\"\n",
    "\n",
    "        # Display the result on the UI\n",
    "        result_label.configure(text=result)\n",
    "\n",
    "# Create UI components\n",
    "open_button = tk.Button(window, text=\"Open Image\", command=open_file)\n",
    "open_button.pack(pady=10)\n",
    "\n",
    "panel = tk.Label(window)\n",
    "panel.pack()\n",
    "\n",
    "detect_button = tk.Button(window, text=\"Detect Tumor\", command=detect_tumor)\n",
    "detect_button.pack(pady=10)\n",
    "\n",
    "result_label = tk.Label(window, text=\"\")\n",
    "result_label.pack()\n",
    "\n",
    "# Start the Tkinter event loop\n",
    "window.mainloop()\n"
   ]
  },
  {
   "cell_type": "markdown",
   "metadata": {},
   "source": [
    "___"
   ]
  },
  {
   "cell_type": "markdown",
   "metadata": {},
   "source": [
    "<div style=\"text-align: center\"><i><font color = 'gray'> - End of Document - </font></i> </div>"
   ]
  },
  {
   "cell_type": "markdown",
   "metadata": {},
   "source": [
    "___"
   ]
  },
  {
   "cell_type": "markdown",
   "metadata": {},
   "source": [
    "___"
   ]
  }
 ],
 "metadata": {
  "kernelspec": {
   "display_name": "Python (learn-env)",
   "language": "python",
   "name": "learn-env"
  },
  "language_info": {
   "codemirror_mode": {
    "name": "ipython",
    "version": 3
   },
   "file_extension": ".py",
   "mimetype": "text/x-python",
   "name": "python",
   "nbconvert_exporter": "python",
   "pygments_lexer": "ipython3",
   "version": "3.8.5"
  }
 },
 "nbformat": 4,
 "nbformat_minor": 4
}
